{
 "cells": [
  {
   "cell_type": "markdown",
   "id": "460b021c-c190-4232-8bc9-aad85e21385e",
   "metadata": {},
   "source": [
    "<h1 style=\"color:red\">Titanic Machine Learning</h1> "
   ]
  },
  {
   "cell_type": "markdown",
   "id": "2b7aa9a0-a53e-459f-9537-1fa5eebe5e88",
   "metadata": {},
   "source": [
    "<h2 style=\"color:red\">Packages Loading</h1> "
   ]
  },
  {
   "cell_type": "code",
   "execution_count": 2,
   "id": "d8a1e2f5-e4e3-40bd-807d-aff564713786",
   "metadata": {},
   "outputs": [],
   "source": [
    "import warnings\n",
    "import pandas as pd \n",
    "import numpy as np \n",
    "import seaborn as sns \n",
    "import math\n",
    "import scipy.stats as stats\n",
    "from scipy.stats import pearsonr\n",
    "\n",
    "import matplotlib.pyplot as plt \n",
    "from matplotlib.pyplot import figure\n",
    "warnings.filterwarnings('ignore')\n",
    "pd.set_option('display.max_colwidth', None)"
   ]
  },
  {
   "cell_type": "markdown",
   "id": "01263c08-93c4-43aa-8933-90d599ebc96f",
   "metadata": {},
   "source": [
    "<h2 style=\"color:red\">Load dataset</h1> "
   ]
  },
  {
   "cell_type": "code",
   "execution_count": 3,
   "id": "e4a8fca0-a730-420e-b4d1-5a0bcab178b1",
   "metadata": {},
   "outputs": [],
   "source": [
    "data = sns.load_dataset(\"titanic\")"
   ]
  },
  {
   "cell_type": "code",
   "execution_count": 41,
   "id": "872f942f-b8d1-4429-b894-542ce4aba312",
   "metadata": {},
   "outputs": [
    {
     "data": {
      "text/html": [
       "<div>\n",
       "<style scoped>\n",
       "    .dataframe tbody tr th:only-of-type {\n",
       "        vertical-align: middle;\n",
       "    }\n",
       "\n",
       "    .dataframe tbody tr th {\n",
       "        vertical-align: top;\n",
       "    }\n",
       "\n",
       "    .dataframe thead th {\n",
       "        text-align: right;\n",
       "    }\n",
       "</style>\n",
       "<table border=\"1\" class=\"dataframe\">\n",
       "  <thead>\n",
       "    <tr style=\"text-align: right;\">\n",
       "      <th></th>\n",
       "      <th>survived</th>\n",
       "      <th>pclass</th>\n",
       "      <th>sex</th>\n",
       "      <th>age</th>\n",
       "      <th>sibsp</th>\n",
       "      <th>parch</th>\n",
       "      <th>fare</th>\n",
       "      <th>embarked</th>\n",
       "      <th>class</th>\n",
       "      <th>who</th>\n",
       "      <th>adult_male</th>\n",
       "      <th>deck</th>\n",
       "      <th>embark_town</th>\n",
       "      <th>alive</th>\n",
       "      <th>alone</th>\n",
       "    </tr>\n",
       "  </thead>\n",
       "  <tbody>\n",
       "    <tr>\n",
       "      <th>0</th>\n",
       "      <td>0</td>\n",
       "      <td>3</td>\n",
       "      <td>male</td>\n",
       "      <td>22.0</td>\n",
       "      <td>1</td>\n",
       "      <td>0</td>\n",
       "      <td>7.2500</td>\n",
       "      <td>S</td>\n",
       "      <td>Third</td>\n",
       "      <td>man</td>\n",
       "      <td>True</td>\n",
       "      <td>NaN</td>\n",
       "      <td>Southampton</td>\n",
       "      <td>no</td>\n",
       "      <td>False</td>\n",
       "    </tr>\n",
       "    <tr>\n",
       "      <th>1</th>\n",
       "      <td>1</td>\n",
       "      <td>1</td>\n",
       "      <td>female</td>\n",
       "      <td>38.0</td>\n",
       "      <td>1</td>\n",
       "      <td>0</td>\n",
       "      <td>71.2833</td>\n",
       "      <td>C</td>\n",
       "      <td>First</td>\n",
       "      <td>woman</td>\n",
       "      <td>False</td>\n",
       "      <td>C</td>\n",
       "      <td>Cherbourg</td>\n",
       "      <td>yes</td>\n",
       "      <td>False</td>\n",
       "    </tr>\n",
       "    <tr>\n",
       "      <th>2</th>\n",
       "      <td>1</td>\n",
       "      <td>3</td>\n",
       "      <td>female</td>\n",
       "      <td>26.0</td>\n",
       "      <td>0</td>\n",
       "      <td>0</td>\n",
       "      <td>7.9250</td>\n",
       "      <td>S</td>\n",
       "      <td>Third</td>\n",
       "      <td>woman</td>\n",
       "      <td>False</td>\n",
       "      <td>NaN</td>\n",
       "      <td>Southampton</td>\n",
       "      <td>yes</td>\n",
       "      <td>True</td>\n",
       "    </tr>\n",
       "    <tr>\n",
       "      <th>3</th>\n",
       "      <td>1</td>\n",
       "      <td>1</td>\n",
       "      <td>female</td>\n",
       "      <td>35.0</td>\n",
       "      <td>1</td>\n",
       "      <td>0</td>\n",
       "      <td>53.1000</td>\n",
       "      <td>S</td>\n",
       "      <td>First</td>\n",
       "      <td>woman</td>\n",
       "      <td>False</td>\n",
       "      <td>C</td>\n",
       "      <td>Southampton</td>\n",
       "      <td>yes</td>\n",
       "      <td>False</td>\n",
       "    </tr>\n",
       "    <tr>\n",
       "      <th>4</th>\n",
       "      <td>0</td>\n",
       "      <td>3</td>\n",
       "      <td>male</td>\n",
       "      <td>35.0</td>\n",
       "      <td>0</td>\n",
       "      <td>0</td>\n",
       "      <td>8.0500</td>\n",
       "      <td>S</td>\n",
       "      <td>Third</td>\n",
       "      <td>man</td>\n",
       "      <td>True</td>\n",
       "      <td>NaN</td>\n",
       "      <td>Southampton</td>\n",
       "      <td>no</td>\n",
       "      <td>True</td>\n",
       "    </tr>\n",
       "  </tbody>\n",
       "</table>\n",
       "</div>"
      ],
      "text/plain": [
       "   survived  pclass     sex   age  sibsp  parch     fare embarked  class  \\\n",
       "0         0       3    male  22.0      1      0   7.2500        S  Third   \n",
       "1         1       1  female  38.0      1      0  71.2833        C  First   \n",
       "2         1       3  female  26.0      0      0   7.9250        S  Third   \n",
       "3         1       1  female  35.0      1      0  53.1000        S  First   \n",
       "4         0       3    male  35.0      0      0   8.0500        S  Third   \n",
       "\n",
       "     who  adult_male deck  embark_town alive  alone  \n",
       "0    man        True  NaN  Southampton    no  False  \n",
       "1  woman       False    C    Cherbourg   yes  False  \n",
       "2  woman       False  NaN  Southampton   yes   True  \n",
       "3  woman       False    C  Southampton   yes  False  \n",
       "4    man        True  NaN  Southampton    no   True  "
      ]
     },
     "execution_count": 41,
     "metadata": {},
     "output_type": "execute_result"
    }
   ],
   "source": [
    "data.head()"
   ]
  },
  {
   "cell_type": "markdown",
   "id": "6695f5b2-a220-4ca5-afcf-f6bc8a04ae96",
   "metadata": {},
   "source": [
    "<h2 style=\"color:red\">Data Analysis</h1> "
   ]
  },
  {
   "cell_type": "code",
   "execution_count": 18,
   "id": "5643a628-c916-4e37-ac99-087461ef0a12",
   "metadata": {},
   "outputs": [
    {
     "data": {
      "text/html": [
       "<div>\n",
       "<style scoped>\n",
       "    .dataframe tbody tr th:only-of-type {\n",
       "        vertical-align: middle;\n",
       "    }\n",
       "\n",
       "    .dataframe tbody tr th {\n",
       "        vertical-align: top;\n",
       "    }\n",
       "\n",
       "    .dataframe thead th {\n",
       "        text-align: right;\n",
       "    }\n",
       "</style>\n",
       "<table border=\"1\" class=\"dataframe\">\n",
       "  <thead>\n",
       "    <tr style=\"text-align: right;\">\n",
       "      <th></th>\n",
       "      <th>count</th>\n",
       "      <th>mean</th>\n",
       "      <th>std</th>\n",
       "      <th>min</th>\n",
       "      <th>25%</th>\n",
       "      <th>50%</th>\n",
       "      <th>75%</th>\n",
       "      <th>max</th>\n",
       "    </tr>\n",
       "  </thead>\n",
       "  <tbody>\n",
       "    <tr>\n",
       "      <th>survived</th>\n",
       "      <td>891.0</td>\n",
       "      <td>0.383838</td>\n",
       "      <td>0.486592</td>\n",
       "      <td>0.00</td>\n",
       "      <td>0.0000</td>\n",
       "      <td>0.0000</td>\n",
       "      <td>1.0</td>\n",
       "      <td>1.0000</td>\n",
       "    </tr>\n",
       "    <tr>\n",
       "      <th>pclass</th>\n",
       "      <td>891.0</td>\n",
       "      <td>2.308642</td>\n",
       "      <td>0.836071</td>\n",
       "      <td>1.00</td>\n",
       "      <td>2.0000</td>\n",
       "      <td>3.0000</td>\n",
       "      <td>3.0</td>\n",
       "      <td>3.0000</td>\n",
       "    </tr>\n",
       "    <tr>\n",
       "      <th>age</th>\n",
       "      <td>714.0</td>\n",
       "      <td>29.699118</td>\n",
       "      <td>14.526497</td>\n",
       "      <td>0.42</td>\n",
       "      <td>20.1250</td>\n",
       "      <td>28.0000</td>\n",
       "      <td>38.0</td>\n",
       "      <td>80.0000</td>\n",
       "    </tr>\n",
       "    <tr>\n",
       "      <th>sibsp</th>\n",
       "      <td>891.0</td>\n",
       "      <td>0.523008</td>\n",
       "      <td>1.102743</td>\n",
       "      <td>0.00</td>\n",
       "      <td>0.0000</td>\n",
       "      <td>0.0000</td>\n",
       "      <td>1.0</td>\n",
       "      <td>8.0000</td>\n",
       "    </tr>\n",
       "    <tr>\n",
       "      <th>parch</th>\n",
       "      <td>891.0</td>\n",
       "      <td>0.381594</td>\n",
       "      <td>0.806057</td>\n",
       "      <td>0.00</td>\n",
       "      <td>0.0000</td>\n",
       "      <td>0.0000</td>\n",
       "      <td>0.0</td>\n",
       "      <td>6.0000</td>\n",
       "    </tr>\n",
       "    <tr>\n",
       "      <th>fare</th>\n",
       "      <td>891.0</td>\n",
       "      <td>32.204208</td>\n",
       "      <td>49.693429</td>\n",
       "      <td>0.00</td>\n",
       "      <td>7.9104</td>\n",
       "      <td>14.4542</td>\n",
       "      <td>31.0</td>\n",
       "      <td>512.3292</td>\n",
       "    </tr>\n",
       "  </tbody>\n",
       "</table>\n",
       "</div>"
      ],
      "text/plain": [
       "          count       mean        std   min      25%      50%   75%       max\n",
       "survived  891.0   0.383838   0.486592  0.00   0.0000   0.0000   1.0    1.0000\n",
       "pclass    891.0   2.308642   0.836071  1.00   2.0000   3.0000   3.0    3.0000\n",
       "age       714.0  29.699118  14.526497  0.42  20.1250  28.0000  38.0   80.0000\n",
       "sibsp     891.0   0.523008   1.102743  0.00   0.0000   0.0000   1.0    8.0000\n",
       "parch     891.0   0.381594   0.806057  0.00   0.0000   0.0000   0.0    6.0000\n",
       "fare      891.0  32.204208  49.693429  0.00   7.9104  14.4542  31.0  512.3292"
      ]
     },
     "execution_count": 18,
     "metadata": {},
     "output_type": "execute_result"
    }
   ],
   "source": [
    "data.describe().T"
   ]
  },
  {
   "cell_type": "code",
   "execution_count": 19,
   "id": "8be7badd-8cb3-41bb-9804-c7ff88aba544",
   "metadata": {},
   "outputs": [
    {
     "data": {
      "text/plain": [
       "survived          int64\n",
       "pclass            int64\n",
       "sex              object\n",
       "age             float64\n",
       "sibsp             int64\n",
       "parch             int64\n",
       "fare            float64\n",
       "embarked         object\n",
       "class          category\n",
       "who              object\n",
       "adult_male         bool\n",
       "deck           category\n",
       "embark_town      object\n",
       "alive            object\n",
       "alone              bool\n",
       "dtype: object"
      ]
     },
     "execution_count": 19,
     "metadata": {},
     "output_type": "execute_result"
    }
   ],
   "source": [
    "data.dtypes"
   ]
  },
  {
   "cell_type": "code",
   "execution_count": 20,
   "id": "514b2423-0197-4af0-8cc0-1836668a6456",
   "metadata": {},
   "outputs": [
    {
     "data": {
      "text/plain": [
       "survived         0\n",
       "pclass           0\n",
       "sex              0\n",
       "age            177\n",
       "sibsp            0\n",
       "parch            0\n",
       "fare             0\n",
       "embarked         2\n",
       "class            0\n",
       "who              0\n",
       "adult_male       0\n",
       "deck           688\n",
       "embark_town      2\n",
       "alive            0\n",
       "alone            0\n",
       "dtype: int64"
      ]
     },
     "execution_count": 20,
     "metadata": {},
     "output_type": "execute_result"
    }
   ],
   "source": [
    "data.isna().sum()"
   ]
  },
  {
   "cell_type": "code",
   "execution_count": 4,
   "id": "64080df2-550f-40aa-86e9-73e1aa18a352",
   "metadata": {},
   "outputs": [
    {
     "name": "stdout",
     "output_type": "stream",
     "text": [
      "[3 1 2]\n",
      "['Third', 'First', 'Second']\n",
      "Categories (3, object): ['First', 'Second', 'Third']\n",
      "\n",
      "\n",
      "{'Third': 0, 'First': 0, 'Second': 0}\n"
     ]
    }
   ],
   "source": [
    "# To check if all values of pclass and column matches with earch other \n",
    "def chech_class(pclass, classvalue): \n",
    "    value = np.argwhere((data[\"pclass\"].to_numpy == pclass) & (data[\"class\"].to_numpy() != classvalue)).shape[0]\n",
    "    return value\n",
    "# Call function\n",
    "dict_result = {}\n",
    "list_pclass = data[\"pclass\"].unique()\n",
    "print(list_pclass)\n",
    "list_class = data[\"class\"].unique()\n",
    "print(list_class)\n",
    "for element in range(0, len(list_class)): \n",
    "    dict_result[list_class[element]] = chech_class(list_pclass[element], list_class[element])\n",
    "print(\"\\n\") \n",
    "print(dict_result)"
   ]
  },
  {
   "cell_type": "code",
   "execution_count": 5,
   "id": "d93b0407-cc7c-4a7f-898d-d02355d3c87a",
   "metadata": {},
   "outputs": [],
   "source": [
    "# pclass and class give the same information, we can drop one of them\n",
    "data = data.drop(\"pclass\", axis = 1)\n"
   ]
  },
  {
   "cell_type": "markdown",
   "id": "d4ab9894-a6eb-42b1-8817-6803cdbc6bdc",
   "metadata": {},
   "source": [
    "<h2 style=\"color:red\">Pie Char Analysis</h1> "
   ]
  },
  {
   "cell_type": "code",
   "execution_count": 6,
   "id": "d349c144-90cb-4df1-befb-52f070976f6b",
   "metadata": {},
   "outputs": [],
   "source": [
    "def pie_visualization(dataset, col_name,size): \n",
    "    \"\"\"\n",
    "    Cette fonction permet de visualizer une pie char de la distibution d'une variable catégorielle\n",
    "    dataset: The name of the dataset\n",
    "    col_name: The name of the colums\n",
    "    size: size of the figure\n",
    "    \"\"\"\n",
    "    plt.figure(figsize=size)\n",
    "    values =(dataset[col_name].value_counts() / len(dataset)*100)\n",
    "    labels = dataset[col_name].value_counts().index\n",
    "    colors = sns.color_palette(\"BrBG_r\")\n",
    "    plt.pie(values,\n",
    "           labels= labels, \n",
    "           autopct=\"%.0f%%\", \n",
    "           shadow=False, \n",
    "           textprops={\"fontsize\":20})\n",
    "    plt.axis(\"equal\")\n",
    "    plt.tight_layout()"
   ]
  },
  {
   "cell_type": "code",
   "execution_count": 9,
   "id": "febdf39f-be43-42c1-81a9-61c974a52ea4",
   "metadata": {},
   "outputs": [],
   "source": [
    "def pie_NaN_visualization(dataset, size):\n",
    "\n",
    "    lignes = dataset.shape[0]\n",
    "    colonnes = dataset.shape[1]\n",
    "    ## Number of non-missing data\n",
    "    nb_data = dataset.count().sum()\n",
    "    # Total number of dataset\n",
    "    nb_total = (colonnes*lignes)\n",
    "    ## rate filling dataset\n",
    "    rate_dataOK = (nb_data / nb_total)\n",
    "    print(f\"Le jeux de donnée est rempli à{rate_dataOK:.2f}\")\n",
    "    print(f\"Le jeux de donnée est rempli des données manquantes à{1-rate_dataOK:.2f}\")\n",
    "    print(\"\\n\")\n",
    "    print(\"\\n\")\n",
    "    # Pie plot \n",
    "    rates = [rate_dataOK, 1-rate_dataOK]\n",
    "    colors = [\"gold\", \"pink\"]\n",
    "    labels = [\"Données\", \"NaN\"]\n",
    "    explode = (0, 0.1)\n",
    "    # Plot \n",
    "    plt.figure(figsize=size)\n",
    "    plt.pie(rates,\n",
    "           explode=explode,\n",
    "           labels=labels,\n",
    "           colors=colors, \n",
    "           autopct=\"%.2f%%\",\n",
    "           shadow=True,\n",
    "           textprops={\"fontsize\":26})\n",
    "    ttl = plt.title(\"Taux de remplissage des données\", fontsize =32)\n",
    "    ttl.set_position([0.5,0.85])\n",
    "    plt.axis(\"equal\")\n",
    "    plt.tight_layout()\n",
    "    plt.show()"
   ]
  },
  {
   "cell_type": "markdown",
   "id": "0eb71907-887c-4067-8574-386315a59e9d",
   "metadata": {},
   "source": [
    "# Missing Values Visualization"
   ]
  },
  {
   "cell_type": "code",
   "execution_count": 10,
   "id": "fd715973-fc45-44b2-ad7e-4cb5695e5c51",
   "metadata": {},
   "outputs": [
    {
     "name": "stdout",
     "output_type": "stream",
     "text": [
      "Le jeux de donnée est rempli à0.93\n",
      "Le jeux de donnée est rempli des données manquantes à0.07\n",
      "\n",
      "\n",
      "\n",
      "\n"
     ]
    },
    {
     "data": {
      "image/png": "[encoded data removed]",
      "text/plain": [
       "<Figure size 1200x1500 with 1 Axes>"
      ]
     },
     "metadata": {},
     "output_type": "display_data"
    },
    {
     "name": "stdout",
     "output_type": "stream",
     "text": [
      "None\n"
     ]
    }
   ],
   "source": [
    "print(pie_NaN_visualization(data, (12,15)))"
   ]
  },
  {
   "cell_type": "code",
   "execution_count": 56,
   "id": "12553ab2-f113-41f7-ab6c-d6c3d593c8f9",
   "metadata": {},
   "outputs": [
    {
     "name": "stdout",
     "output_type": "stream",
     "text": [
      "12496\n",
      "15\n"
     ]
    }
   ],
   "source": [
    "nb_data = data.count().sum()\n",
    "colonnes = data.shape[1]\n",
    "lignes = data.shape[0]\n",
    "\n",
    "print(nb_data)\n",
    "print(colonnes)"
   ]
  },
  {
   "cell_type": "code",
   "execution_count": 57,
   "id": "80d0b91d-bbcd-4120-a575-853bbe85715a",
   "metadata": {},
   "outputs": [],
   "source": [
    "nb_total = (colonnes*lignes)\n",
    "rate"
   ]
  }
 ],
 "metadata": {
  "kernelspec": {
   "display_name": "Python 3 (ipykernel)",
   "language": "python",
   "name": "python3"
  },
  "language_info": {
   "codemirror_mode": {
    "name": "ipython",
    "version": 3
   },
   "file_extension": ".py",
   "mimetype": "text/x-python",
   "name": "python",
   "nbconvert_exporter": "python",
   "pygments_lexer": "ipython3",
   "version": "3.11.5"
  }
 },
 "nbformat": 4,
 "nbformat_minor": 5
}
